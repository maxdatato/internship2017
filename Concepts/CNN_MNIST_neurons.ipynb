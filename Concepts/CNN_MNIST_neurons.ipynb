{
 "cells": [
  {
   "cell_type": "code",
   "execution_count": 1,
   "metadata": {},
   "outputs": [
    {
     "name": "stderr",
     "output_type": "stream",
     "text": [
      "Using TensorFlow backend.\n"
     ]
    },
    {
     "name": "stdout",
     "output_type": "stream",
     "text": [
      "x_train shape: (12223, 28, 28, 1)\n",
      "12223 train samples\n",
      "2060 test samples\n"
     ]
    }
   ],
   "source": [
    "from __future__ import print_function\n",
    "import keras\n",
    "from keras.datasets import mnist\n",
    "from keras.models import Sequential\n",
    "from keras.layers import Dense, Dropout, Flatten\n",
    "from keras.layers import Conv2D, MaxPooling2D\n",
    "from keras import backend as K\n",
    "import numpy as np\n",
    "\n",
    "\n",
    "# input image dimensions\n",
    "img_rows, img_cols = 28, 28\n",
    "\n",
    "# the data, shuffled and split between train and test sets\n",
    "(x_train, y_train), (x_test, y_test) = mnist.load_data()\n",
    "\n",
    "#Only look at 3s and 8s\n",
    "train_picks = np.logical_or(y_train==2,y_train==7)\n",
    "test_picks = np.logical_or(y_test==2,y_test==7)\n",
    "\n",
    "x_train = x_train[train_picks]\n",
    "x_test = x_test[test_picks]\n",
    "y_train = np.array(y_train[train_picks]==7,dtype=int)\n",
    "y_test = np.array(y_test[test_picks]==7,dtype=int)\n",
    "\n",
    "\n",
    "if K.image_data_format() == 'channels_first':\n",
    "    x_train = x_train.reshape(x_train.shape[0], 1, img_rows, img_cols)\n",
    "    x_test = x_test.reshape(x_test.shape[0], 1, img_rows, img_cols)\n",
    "    input_shape = (1, img_rows, img_cols)\n",
    "else:\n",
    "    x_train = x_train.reshape(x_train.shape[0], img_rows, img_cols, 1)\n",
    "    x_test = x_test.reshape(x_test.shape[0], img_rows, img_cols, 1)\n",
    "    input_shape = (img_rows, img_cols, 1)\n",
    "\n",
    "x_train = x_train.astype('float32')\n",
    "x_test = x_test.astype('float32')\n",
    "x_train /= 255\n",
    "x_test /= 255\n",
    "print('x_train shape:', x_train.shape)\n",
    "print(x_train.shape[0], 'train samples')\n",
    "print(x_test.shape[0], 'test samples')\n",
    "\n",
    "# convert class vectors to binary class matrices\n",
    "num_classes = 2\n",
    "y_train = keras.utils.to_categorical(y_train, num_classes)\n",
    "y_test = keras.utils.to_categorical(y_test, num_classes)\n"
   ]
  },
  {
   "cell_type": "code",
   "execution_count": 2,
   "metadata": {
    "collapsed": true
   },
   "outputs": [],
   "source": [
    "from keras.wrappers.scikit_learn import KerasClassifier\n",
    "from keras import optimizers\n",
    "from keras.optimizers import SGD\n",
    "from keras.constraints import maxnorm\n",
    "\n",
    "# def make_model( ):    \n",
    "def make_model(neurons=1):\n",
    "    \n",
    "    dropout_rate = 0.4\n",
    "    weight_constraint = 5\n",
    "    activation='tanh'\n",
    "    init_mode = 'he_normal'\n",
    "    learn_rate=0.2\n",
    "    momentum=0.8\n",
    "    \n",
    "    dense_layer_sizes = [64]\n",
    "    pool_size = (2, 2)\n",
    "    filters = 8\n",
    "    kernel_size = (3, 3)\n",
    "    \n",
    "    model = Sequential()\n",
    "    model.add(Conv2D(neurons, kernel_size,kernel_initializer=init_mode,activation=activation, kernel_constraint=maxnorm(weight_constraint),input_shape=input_shape))\n",
    "    model.add(Conv2D(8, (3, 3), activation=activation))\n",
    "    model.add(MaxPooling2D(pool_size))\n",
    "    model.add(Dropout(dropout_rate))\n",
    "    model.add(Flatten())\n",
    "    model.add(Dense(16, activation=activation))\n",
    "    model.add(Dropout(dropout_rate))\n",
    "    model.add(Dense(2, activation='softmax'))\n",
    "    \n",
    "    optimizer = SGD(lr=learn_rate, momentum=momentum)\n",
    "    model.compile(loss=keras.losses.categorical_crossentropy,\n",
    "              optimizer=optimizer,\n",
    "              metrics=['accuracy'])    \n",
    "    \n",
    "    return model\n"
   ]
  },
  {
   "cell_type": "code",
   "execution_count": null,
   "metadata": {
    "collapsed": true
   },
   "outputs": [],
   "source": []
  },
  {
   "cell_type": "code",
   "execution_count": 3,
   "metadata": {
    "collapsed": true
   },
   "outputs": [],
   "source": [
    "from keras.wrappers.scikit_learn import KerasClassifier\n",
    "from sklearn.model_selection import GridSearchCV\n",
    "# from sklearn.grid_search import GridSearchCV\n",
    "\n",
    "# define the grid search parameters\n",
    "neurons = [1, 10, 20, 30, 40, 50, 60, 70, 80, 90, 100]\n",
    "epochs = [10, 50, 100]\n",
    "batch_size = [10, 50, 100, 150, 200, 250]\n",
    "weight_constraint = [1, 2, 3, 4, 5]\n",
    "dropout_rate = [0.0, 0.1, 0.2, 0.3, 0.4, 0.5, 0.6, 0.7, 0.8, 0.9]\n",
    "activation = ['softmax', 'softplus', 'softsign', 'relu', 'tanh', 'sigmoid', 'hard_sigmoid', 'linear']\n",
    "init_mode = ['uniform', 'lecun_uniform', 'normal', 'zero', 'glorot_normal', 'glorot_uniform', 'he_normal', 'he_uniform']\n",
    "optimizer = ['SGD', 'RMSprop', 'Adagrad', 'Adadelta', 'Adam', 'Adamax', 'Nadam']\n",
    "learn_rate = [0.001, 0.01, 0.1, 0.2, 0.3]\n",
    "momentum = [0.0, 0.2, 0.4, 0.6, 0.8, 0.9]\n",
    "param_grid = dict(epochs=epochs,neurons=neurons)\n",
    "# param_grid = dict(batch_size=batch_size, optimizer=optimizer)\n",
    "# param_grid = dict(learn_rate=learn_rate, momentum=momentum)\n",
    "# param_grid = dict(batch_size=batch_size, epochs=epochs)\n",
    "\n",
    "# my_classifier = KerasClassifier(make_model, epochs=12, batch_size=128, verbose=0)\n",
    "my_classifier = KerasClassifier(make_model, batch_size=128, verbose=0)\n",
    "grid = GridSearchCV(my_classifier,param_grid=param_grid, n_jobs=1)"
   ]
  },
  {
   "cell_type": "code",
   "execution_count": 4,
   "metadata": {},
   "outputs": [],
   "source": [
    "grid_result=grid.fit(x_train, y_train)"
   ]
  },
  {
   "cell_type": "code",
   "execution_count": 5,
   "metadata": {},
   "outputs": [
    {
     "name": "stdout",
     "output_type": "stream",
     "text": [
      "Best: 0.995828 using {'neurons': 10, 'epochs': 100}\n",
      "0.992146 (0.001837) with: {'neurons': 1, 'epochs': 10}\n",
      "0.993700 (0.000306) with: {'neurons': 10, 'epochs': 10}\n",
      "0.992555 (0.002554) with: {'neurons': 20, 'epochs': 10}\n",
      "0.993946 (0.001422) with: {'neurons': 30, 'epochs': 10}\n",
      "0.991082 (0.002235) with: {'neurons': 40, 'epochs': 10}\n",
      "0.991737 (0.000946) with: {'neurons': 50, 'epochs': 10}\n",
      "0.992473 (0.001608) with: {'neurons': 60, 'epochs': 10}\n",
      "0.992310 (0.002450) with: {'neurons': 70, 'epochs': 10}\n",
      "0.990428 (0.000875) with: {'neurons': 80, 'epochs': 10}\n",
      "0.992800 (0.001009) with: {'neurons': 90, 'epochs': 10}\n",
      "0.989446 (0.001712) with: {'neurons': 100, 'epochs': 10}\n",
      "0.993291 (0.001681) with: {'neurons': 1, 'epochs': 50}\n",
      "0.994928 (0.001669) with: {'neurons': 10, 'epochs': 50}\n",
      "0.992637 (0.002404) with: {'neurons': 20, 'epochs': 50}\n",
      "0.994191 (0.001556) with: {'neurons': 30, 'epochs': 50}\n",
      "0.995091 (0.000531) with: {'neurons': 40, 'epochs': 50}\n",
      "0.992800 (0.001105) with: {'neurons': 50, 'epochs': 50}\n",
      "0.994682 (0.001208) with: {'neurons': 60, 'epochs': 50}\n",
      "0.995091 (0.001061) with: {'neurons': 70, 'epochs': 50}\n",
      "0.994846 (0.000802) with: {'neurons': 80, 'epochs': 50}\n",
      "0.993455 (0.001175) with: {'neurons': 90, 'epochs': 50}\n",
      "0.994682 (0.000834) with: {'neurons': 100, 'epochs': 50}\n",
      "0.994928 (0.000926) with: {'neurons': 1, 'epochs': 100}\n",
      "0.995828 (0.001116) with: {'neurons': 10, 'epochs': 100}\n",
      "0.994764 (0.001862) with: {'neurons': 20, 'epochs': 100}\n",
      "0.995664 (0.000834) with: {'neurons': 30, 'epochs': 100}\n",
      "0.994109 (0.001836) with: {'neurons': 40, 'epochs': 100}\n",
      "0.835229 (0.226615) with: {'neurons': 50, 'epochs': 100}\n",
      "0.995746 (0.001104) with: {'neurons': 60, 'epochs': 100}\n",
      "0.994682 (0.001104) with: {'neurons': 70, 'epochs': 100}\n",
      "0.994846 (0.000723) with: {'neurons': 80, 'epochs': 100}\n",
      "0.995009 (0.001288) with: {'neurons': 90, 'epochs': 100}\n",
      "0.995173 (0.001633) with: {'neurons': 100, 'epochs': 100}\n"
     ]
    }
   ],
   "source": [
    "# summarize results\n",
    "print(\"Best: %f using %s\" % (grid_result.best_score_, grid_result.best_params_))\n",
    "\n",
    "means = grid_result.cv_results_['mean_test_score']\n",
    "stds = grid_result.cv_results_['std_test_score']\n",
    "params = grid_result.cv_results_['params']\n",
    "\n",
    "for mean, stdev, param in zip(means, stds, params):\n",
    "    print(\"%f (%f) with: %r\" % (mean, stdev, param))"
   ]
  },
  {
   "cell_type": "code",
   "execution_count": 12,
   "metadata": {
    "scrolled": true
   },
   "outputs": [
    {
     "name": "stderr",
     "output_type": "stream",
     "text": [
      "/usr/local/lib/python3.4/dist-packages/sklearn/model_selection/_search.py:667: DeprecationWarning: The grid_scores_ attribute was deprecated in version 0.18 in favor of the more elaborate cv_results_ attribute. The grid_scores_ attribute will not be available from 0.20\n",
      "  DeprecationWarning)\n"
     ]
    },
    {
     "data": {
      "image/png": "[encoded data removed]",
      "text/plain": [
       "<matplotlib.figure.Figure at 0x7f69d3aab6a0>"
      ]
     },
     "metadata": {},
     "output_type": "display_data"
    }
   ],
   "source": [
    "import matplotlib.pyplot as plt\n",
    "\n",
    "Gammas = neurons\n",
    "Cs = epochs\n",
    "\n",
    "scores = [x[1] for x in grid_result.grid_scores_]\n",
    "scores = np.array(scores).reshape(len(Cs), len(Gammas))\n",
    "\n",
    "for ind, i in enumerate(Cs):\n",
    "    plt.plot(Gammas, scores[ind], label='neurons: ' + str(i))\n",
    "plt.legend()\n",
    "plt.xlabel('epochs')\n",
    "plt.ylabel('Mean score')\n",
    "plt.axis([10, 100, 0.9, 1])\n",
    "plt.show()"
   ]
  },
  {
   "cell_type": "code",
   "execution_count": null,
   "metadata": {
    "collapsed": true
   },
   "outputs": [],
   "source": [
    "grid_result.grid_scores_"
   ]
  },
  {
   "cell_type": "code",
   "execution_count": 11,
   "metadata": {},
   "outputs": [
    {
     "name": "stderr",
     "output_type": "stream",
     "text": [
      "/usr/local/lib/python3.4/dist-packages/sklearn/model_selection/_search.py:667: DeprecationWarning: The grid_scores_ attribute was deprecated in version 0.18 in favor of the more elaborate cv_results_ attribute. The grid_scores_ attribute will not be available from 0.20\n",
      "  DeprecationWarning)\n"
     ]
    },
    {
     "data": {
      "image/png": "[encoded data removed]",
      "text/plain": [
       "<matplotlib.figure.Figure at 0x7f69d3afeac8>"
      ]
     },
     "metadata": {},
     "output_type": "display_data"
    }
   ],
   "source": [
    "Gammas =epochs \n",
    "Cs = neurons\n",
    "\n",
    "scores = [x[1] for x in grid_result.grid_scores_]\n",
    "scores = np.array(scores).reshape(len(Cs), len(Gammas))\n",
    "\n",
    "for ind, i in enumerate(Cs):\n",
    "    plt.plot(Gammas, scores[ind], label='epochs: ' + str(i))\n",
    "plt.legend()\n",
    "plt.xlabel('neurons')\n",
    "plt.ylabel('Mean score')\n",
    "plt.axis([1, 100, 0.9, 1])\n",
    "plt.show()"
   ]
  },
  {
   "cell_type": "code",
   "execution_count": 13,
   "metadata": {},
   "outputs": [
    {
     "name": "stdout",
     "output_type": "stream",
     "text": [
      "The parameters of the best model are: \n",
      "{'neurons': 10, 'epochs': 100}\n",
      "2060/2060 [==============================] - 1s     \n",
      "loss :  0.0420758679411\n",
      "acc :  0.992233009709\n"
     ]
    }
   ],
   "source": [
    "\n",
    "print('The parameters of the best model are: ')\n",
    "print(grid_result.best_params_)\n",
    "\n",
    "# validator.best_estimator_ returns sklearn-wrapped version of best model.\n",
    "# validator.best_estimator_.model returns the (unwrapped) keras model\n",
    "best_model = grid_result.best_estimator_.model\n",
    "metric_names = best_model.metrics_names\n",
    "metric_values = best_model.evaluate(x_test, y_test)\n",
    "for metric, value in zip(metric_names, metric_values):\n",
    "    print(metric, ': ', value)"
   ]
  },
  {
   "cell_type": "markdown",
   "metadata": {
    "collapsed": true
   },
   "source": [
    "The parameters of the best model are: \n",
    "{'optimizer': 'Nadam', 'batch_size': 200}\n",
    "2016/2060 [============================>.] - ETA: 0sloss :  0.0248700746373\n",
    "acc :  0.990291262136\n",
    "The parameters of the best model are: \n",
    "{'learn_rate': 0.2, 'momentum': 0.8}\n",
    "1408/2060 [===================>..........] - ETA: 0sloss :  0.0245782235146\n",
    "acc :  0.991747572816\n",
    "The parameters of the best model are: \n",
    "{'dropout_rate': 0.4, 'weight_constraint': 5}\n",
    "2060/2060 [==============================] - 2s     \n",
    "loss :  0.0336542631887\n",
    "acc :  0.991747572816\n",
    "The parameters of the best model are: \n",
    "{'activation': 'tanh'}\n",
    "1728/2060 [========================>.....] - ETA: 0sloss :  0.0338812967597\n",
    "acc :  0.992233009709\n",
    "The parameters of the best model are: \n",
    "{'neurons': 10, 'epochs': 100}\n",
    "2060/2060 [==============================] - 1s     \n",
    "loss :  0.0420758679411\n",
    "acc :  0.992233009709\n",
    "The parameters of the best model are: \n",
    "{'init_mode': 'he_uniform'}\n",
    "1856/2060 [==========================>...] - ETA: 0sloss :  0.0355884217389\n",
    "acc :  0.992718446602\n",
    "The parameters of the best model are: \n",
    "{'batch_size': 150, 'epochs': 100}\n",
    "1664/2060 [=======================>......] - ETA: 0sloss :  0.0289014536047\n",
    "acc :  0.993689320388"
   ]
  }
 ],
 "metadata": {
  "kernelspec": {
   "display_name": "Python 3",
   "language": "python",
   "name": "python3"
  },
  "language_info": {
   "codemirror_mode": {
    "name": "ipython",
    "version": 3
   },
   "file_extension": ".py",
   "mimetype": "text/x-python",
   "name": "python",
   "nbconvert_exporter": "python",
   "pygments_lexer": "ipython3",
   "version": "3.4.3"
  }
 },
 "nbformat": 4,
 "nbformat_minor": 2
}
