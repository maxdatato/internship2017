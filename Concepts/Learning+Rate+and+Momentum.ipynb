{
 "cells": [
  {
   "cell_type": "code",
   "execution_count": 1,
   "metadata": {},
   "outputs": [
    {
     "name": "stderr",
     "output_type": "stream",
     "text": [
      "Using TensorFlow backend.\n"
     ]
    }
   ],
   "source": [
    "# Use scikit-learn to grid search the learning rate and momentum\n",
    "import numpy\n",
    "from sklearn.model_selection import GridSearchCV\n",
    "from keras.models import Sequential\n",
    "from keras.layers import Dense\n",
    "from keras.wrappers.scikit_learn import KerasClassifier\n",
    "from keras.optimizers import SGD\n",
    "# Function to create model, required for KerasClassifier\n",
    "def create_model(learn_rate=0.01, momentum=0):\n",
    "\t# create model\n",
    "\tmodel = Sequential()\n",
    "\tmodel.add(Dense(12, input_dim=8, activation='relu'))\n",
    "\tmodel.add(Dense(1, activation='sigmoid'))\n",
    "\t# Compile model\n",
    "\toptimizer = SGD(lr=learn_rate, momentum=momentum)\n",
    "\tmodel.compile(loss='binary_crossentropy', optimizer=optimizer, metrics=['accuracy'])\n",
    "\treturn model\n",
    "# fix random seed for reproducibility\n",
    "seed = 7\n",
    "numpy.random.seed(seed)\n",
    "# load dataset\n",
    "dataset = numpy.loadtxt(\"pima-indians-diabetes.data\", delimiter=\",\")\n",
    "# split into input (X) and output (Y) variables\n",
    "X = dataset[:,0:8]\n",
    "Y = dataset[:,8]\n"
   ]
  },
  {
   "cell_type": "code",
   "execution_count": 2,
   "metadata": {},
   "outputs": [],
   "source": [
    "# create model\n",
    "model = KerasClassifier(build_fn=create_model, epochs=100, batch_size=10, verbose=0)\n",
    "# define the grid search parameters\n",
    "learn_rate = [0.001, 0.01, 0.1, 0.2, 0.3]\n",
    "momentum = [0.0, 0.2, 0.4, 0.6, 0.8, 0.9]\n",
    "param_grid = dict(learn_rate=learn_rate, momentum=momentum)\n",
    "grid = GridSearchCV(estimator=model, param_grid=param_grid, n_jobs=1)\n",
    "grid_result = grid.fit(X, Y)\n"
   ]
  },
  {
   "cell_type": "code",
   "execution_count": 3,
   "metadata": {},
   "outputs": [
    {
     "name": "stdout",
     "output_type": "stream",
     "text": [
      "Best: 0.686198 using {'learn_rate': 0.001, 'momentum': 0.6}\n",
      "0.664063 (0.025516) with: {'learn_rate': 0.001, 'momentum': 0.0}\n",
      "0.656250 (0.041707) with: {'learn_rate': 0.001, 'momentum': 0.2}\n",
      "0.674479 (0.014382) with: {'learn_rate': 0.001, 'momentum': 0.4}\n",
      "0.686198 (0.027126) with: {'learn_rate': 0.001, 'momentum': 0.6}\n",
      "0.571615 (0.133589) with: {'learn_rate': 0.001, 'momentum': 0.8}\n",
      "0.656250 (0.030425) with: {'learn_rate': 0.001, 'momentum': 0.9}\n",
      "0.540365 (0.144666) with: {'learn_rate': 0.01, 'momentum': 0.0}\n",
      "0.540365 (0.143075) with: {'learn_rate': 0.01, 'momentum': 0.2}\n",
      "0.544271 (0.146518) with: {'learn_rate': 0.01, 'momentum': 0.4}\n",
      "0.544271 (0.146518) with: {'learn_rate': 0.01, 'momentum': 0.6}\n",
      "0.651042 (0.024774) with: {'learn_rate': 0.01, 'momentum': 0.8}\n",
      "0.651042 (0.024774) with: {'learn_rate': 0.01, 'momentum': 0.9}\n",
      "0.544271 (0.146518) with: {'learn_rate': 0.1, 'momentum': 0.0}\n",
      "0.544271 (0.146518) with: {'learn_rate': 0.1, 'momentum': 0.2}\n",
      "0.651042 (0.024774) with: {'learn_rate': 0.1, 'momentum': 0.4}\n",
      "0.348958 (0.024774) with: {'learn_rate': 0.1, 'momentum': 0.6}\n",
      "0.533854 (0.149269) with: {'learn_rate': 0.1, 'momentum': 0.8}\n",
      "0.427083 (0.134575) with: {'learn_rate': 0.1, 'momentum': 0.9}\n",
      "0.651042 (0.024774) with: {'learn_rate': 0.2, 'momentum': 0.0}\n",
      "0.572917 (0.134575) with: {'learn_rate': 0.2, 'momentum': 0.2}\n",
      "0.466146 (0.149269) with: {'learn_rate': 0.2, 'momentum': 0.4}\n",
      "0.348958 (0.024774) with: {'learn_rate': 0.2, 'momentum': 0.6}\n",
      "0.466146 (0.149269) with: {'learn_rate': 0.2, 'momentum': 0.8}\n",
      "0.651042 (0.024774) with: {'learn_rate': 0.2, 'momentum': 0.9}\n",
      "0.651042 (0.024774) with: {'learn_rate': 0.3, 'momentum': 0.0}\n",
      "0.544271 (0.146518) with: {'learn_rate': 0.3, 'momentum': 0.2}\n",
      "0.572917 (0.134575) with: {'learn_rate': 0.3, 'momentum': 0.4}\n",
      "0.572917 (0.134575) with: {'learn_rate': 0.3, 'momentum': 0.6}\n",
      "0.572917 (0.134575) with: {'learn_rate': 0.3, 'momentum': 0.8}\n",
      "0.572917 (0.134575) with: {'learn_rate': 0.3, 'momentum': 0.9}\n"
     ]
    }
   ],
   "source": [
    "# summarize results\n",
    "print(\"Best: %f using %s\" % (grid_result.best_score_, grid_result.best_params_))\n",
    "means = grid_result.cv_results_['mean_test_score']\n",
    "stds = grid_result.cv_results_['std_test_score']\n",
    "params = grid_result.cv_results_['params']\n",
    "for mean, stdev, param in zip(means, stds, params):\n",
    "    print(\"%f (%f) with: %r\" % (mean, stdev, param))"
   ]
  }
 ],
 "metadata": {
  "kernelspec": {
   "display_name": "Python 3",
   "language": "python",
   "name": "python3"
  },
  "language_info": {
   "codemirror_mode": {
    "name": "ipython",
    "version": 3
   },
   "file_extension": ".py",
   "mimetype": "text/x-python",
   "name": "python",
   "nbconvert_exporter": "python",
   "pygments_lexer": "ipython3",
   "version": "3.4.3"
  }
 },
 "nbformat": 4,
 "nbformat_minor": 2
}
