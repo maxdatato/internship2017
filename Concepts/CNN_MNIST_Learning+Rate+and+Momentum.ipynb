{
 "cells": [
  {
   "cell_type": "code",
   "execution_count": 1,
   "metadata": {},
   "outputs": [
    {
     "name": "stderr",
     "output_type": "stream",
     "text": [
      "Using TensorFlow backend.\n"
     ]
    },
    {
     "name": "stdout",
     "output_type": "stream",
     "text": [
      "x_train shape: (12223, 28, 28, 1)\n",
      "12223 train samples\n",
      "2060 test samples\n"
     ]
    }
   ],
   "source": [
    "from __future__ import print_function\n",
    "import keras\n",
    "from keras.datasets import mnist\n",
    "from keras.models import Sequential\n",
    "from keras.layers import Dense, Dropout, Flatten\n",
    "from keras.layers import Conv2D, MaxPooling2D\n",
    "from keras import backend as K\n",
    "import numpy as np\n",
    "\n",
    "\n",
    "# input image dimensions\n",
    "img_rows, img_cols = 28, 28\n",
    "\n",
    "# the data, shuffled and split between train and test sets\n",
    "(x_train, y_train), (x_test, y_test) = mnist.load_data()\n",
    "\n",
    "#Only look at 3s and 8s\n",
    "train_picks = np.logical_or(y_train==2,y_train==7)\n",
    "test_picks = np.logical_or(y_test==2,y_test==7)\n",
    "\n",
    "x_train = x_train[train_picks]\n",
    "x_test = x_test[test_picks]\n",
    "y_train = np.array(y_train[train_picks]==7,dtype=int)\n",
    "y_test = np.array(y_test[test_picks]==7,dtype=int)\n",
    "\n",
    "\n",
    "if K.image_data_format() == 'channels_first':\n",
    "    x_train = x_train.reshape(x_train.shape[0], 1, img_rows, img_cols)\n",
    "    x_test = x_test.reshape(x_test.shape[0], 1, img_rows, img_cols)\n",
    "    input_shape = (1, img_rows, img_cols)\n",
    "else:\n",
    "    x_train = x_train.reshape(x_train.shape[0], img_rows, img_cols, 1)\n",
    "    x_test = x_test.reshape(x_test.shape[0], img_rows, img_cols, 1)\n",
    "    input_shape = (img_rows, img_cols, 1)\n",
    "\n",
    "x_train = x_train.astype('float32')\n",
    "x_test = x_test.astype('float32')\n",
    "x_train /= 255\n",
    "x_test /= 255\n",
    "print('x_train shape:', x_train.shape)\n",
    "print(x_train.shape[0], 'train samples')\n",
    "print(x_test.shape[0], 'test samples')\n",
    "\n",
    "# convert class vectors to binary class matrices\n",
    "num_classes = 2\n",
    "y_train = keras.utils.to_categorical(y_train, num_classes)\n",
    "y_test = keras.utils.to_categorical(y_test, num_classes)\n"
   ]
  },
  {
   "cell_type": "code",
   "execution_count": 2,
   "metadata": {},
   "outputs": [],
   "source": [
    "from keras.wrappers.scikit_learn import KerasClassifier\n",
    "from keras import optimizers\n",
    "from keras.optimizers import SGD\n",
    "\n",
    "# def make_model( ):    \n",
    "def make_model(learn_rate=0.1, momentum=0):\n",
    "    \n",
    "    \n",
    "    dense_layer_sizes = [64]\n",
    "    pool_size = (2, 2)\n",
    "    filters = 8\n",
    "    kernel_size = (3, 3)\n",
    "    \n",
    "    model = Sequential()\n",
    "    model.add(Conv2D(4, kernel_size,activation='relu',input_shape=input_shape))\n",
    "    model.add(Conv2D(8, (3, 3), activation='relu'))\n",
    "    model.add(MaxPooling2D(pool_size))\n",
    "    model.add(Dropout(0.25))\n",
    "    model.add(Flatten())\n",
    "    model.add(Dense(16, activation='relu'))\n",
    "    model.add(Dropout(0.5))\n",
    "    model.add(Dense(2, activation='softmax'))\n",
    "    \n",
    "    optimizer = SGD(lr=learn_rate, momentum=momentum)\n",
    "    model.compile(loss=keras.losses.categorical_crossentropy,\n",
    "              optimizer=optimizer,\n",
    "              metrics=['accuracy'])    \n",
    "    \n",
    "    return model\n"
   ]
  },
  {
   "cell_type": "code",
   "execution_count": null,
   "metadata": {
    "collapsed": true
   },
   "outputs": [],
   "source": []
  },
  {
   "cell_type": "code",
   "execution_count": 3,
   "metadata": {},
   "outputs": [],
   "source": [
    "from keras.wrappers.scikit_learn import KerasClassifier\n",
    "from sklearn.model_selection import GridSearchCV\n",
    "# from sklearn.grid_search import GridSearchCV\n",
    "\n",
    "batch_size = [10, 50, 100, 150, 200, 250]\n",
    "# epochs = [10, 50, 100]\n",
    "\n",
    "# define the grid search parameters\n",
    "optimizer = ['SGD', 'RMSprop', 'Adagrad', 'Adadelta', 'Adam', 'Adamax', 'Nadam']\n",
    "learn_rate = [0.001, 0.01, 0.1, 0.2, 0.3]\n",
    "momentum = [0.0, 0.2, 0.4, 0.6, 0.8, 0.9]\n",
    "# param_grid = dict(batch_size=batch_size, optimizer=optimizer)\n",
    "param_grid = dict(learn_rate=learn_rate, momentum=momentum)\n",
    "# param_grid = dict(batch_size=batch_size, epochs=epochs)\n",
    "\n",
    "my_classifier = KerasClassifier(make_model, epochs=12, batch_size=128, verbose=0)\n",
    "grid = GridSearchCV(my_classifier,param_grid=param_grid, n_jobs=1)"
   ]
  },
  {
   "cell_type": "code",
   "execution_count": 4,
   "metadata": {},
   "outputs": [],
   "source": [
    "grid_result=grid.fit(x_train, y_train)"
   ]
  },
  {
   "cell_type": "code",
   "execution_count": 5,
   "metadata": {},
   "outputs": [
    {
     "name": "stdout",
     "output_type": "stream",
     "text": [
      "Best: 0.993210 using {'learn_rate': 0.2, 'momentum': 0.8}\n",
      "0.954348 (0.019457) with: {'learn_rate': 0.001, 'momentum': 0.0}\n",
      "0.966866 (0.002830) with: {'learn_rate': 0.001, 'momentum': 0.2}\n",
      "0.963021 (0.006026) with: {'learn_rate': 0.001, 'momentum': 0.4}\n",
      "0.971038 (0.004540) with: {'learn_rate': 0.001, 'momentum': 0.6}\n",
      "0.978156 (0.001405) with: {'learn_rate': 0.001, 'momentum': 0.8}\n",
      "0.981101 (0.001913) with: {'learn_rate': 0.001, 'momentum': 0.9}\n",
      "0.982574 (0.001914) with: {'learn_rate': 0.01, 'momentum': 0.0}\n",
      "0.982737 (0.001226) with: {'learn_rate': 0.01, 'momentum': 0.2}\n",
      "0.984128 (0.001451) with: {'learn_rate': 0.01, 'momentum': 0.4}\n",
      "0.984946 (0.000811) with: {'learn_rate': 0.01, 'momentum': 0.6}\n",
      "0.987728 (0.001314) with: {'learn_rate': 0.01, 'momentum': 0.8}\n",
      "0.990673 (0.001203) with: {'learn_rate': 0.01, 'momentum': 0.9}\n",
      "0.989364 (0.000760) with: {'learn_rate': 0.1, 'momentum': 0.0}\n",
      "0.990346 (0.000760) with: {'learn_rate': 0.1, 'momentum': 0.2}\n",
      "0.990673 (0.001253) with: {'learn_rate': 0.1, 'momentum': 0.4}\n",
      "0.990837 (0.001819) with: {'learn_rate': 0.1, 'momentum': 0.6}\n",
      "0.992719 (0.001477) with: {'learn_rate': 0.1, 'momentum': 0.8}\n",
      "0.992719 (0.001158) with: {'learn_rate': 0.1, 'momentum': 0.9}\n",
      "0.990837 (0.001532) with: {'learn_rate': 0.2, 'momentum': 0.0}\n",
      "0.991573 (0.000645) with: {'learn_rate': 0.2, 'momentum': 0.2}\n",
      "0.990673 (0.002559) with: {'learn_rate': 0.2, 'momentum': 0.4}\n",
      "0.992800 (0.001009) with: {'learn_rate': 0.2, 'momentum': 0.6}\n",
      "0.993210 (0.002007) with: {'learn_rate': 0.2, 'momentum': 0.8}\n",
      "0.992882 (0.001402) with: {'learn_rate': 0.2, 'momentum': 0.9}\n",
      "0.991655 (0.001315) with: {'learn_rate': 0.3, 'momentum': 0.0}\n",
      "0.989201 (0.004024) with: {'learn_rate': 0.3, 'momentum': 0.2}\n",
      "0.992964 (0.000926) with: {'learn_rate': 0.3, 'momentum': 0.4}\n",
      "0.992637 (0.001404) with: {'learn_rate': 0.3, 'momentum': 0.6}\n",
      "0.992391 (0.000200) with: {'learn_rate': 0.3, 'momentum': 0.8}\n",
      "0.498732 (0.014686) with: {'learn_rate': 0.3, 'momentum': 0.9}\n"
     ]
    }
   ],
   "source": [
    "# summarize results\n",
    "print(\"Best: %f using %s\" % (grid_result.best_score_, grid_result.best_params_))\n",
    "\n",
    "means = grid_result.cv_results_['mean_test_score']\n",
    "stds = grid_result.cv_results_['std_test_score']\n",
    "params = grid_result.cv_results_['params']\n",
    "\n",
    "for mean, stdev, param in zip(means, stds, params):\n",
    "    print(\"%f (%f) with: %r\" % (mean, stdev, param))"
   ]
  },
  {
   "cell_type": "code",
   "execution_count": 14,
   "metadata": {
    "scrolled": true
   },
   "outputs": [
    {
     "name": "stderr",
     "output_type": "stream",
     "text": [
      "/usr/local/lib/python3.4/dist-packages/sklearn/model_selection/_search.py:667: DeprecationWarning: The grid_scores_ attribute was deprecated in version 0.18 in favor of the more elaborate cv_results_ attribute. The grid_scores_ attribute will not be available from 0.20\n",
      "  DeprecationWarning)\n"
     ]
    },
    {
     "data": {
      "image/png": "[encoded data removed]",
      "text/plain": [
       "<matplotlib.figure.Figure at 0x7f00a8d77f60>"
      ]
     },
     "metadata": {},
     "output_type": "display_data"
    }
   ],
   "source": [
    "import matplotlib.pyplot as plt\n",
    "\n",
    "Gammas = learn_rate\n",
    "Cs = momentum\n",
    "\n",
    "scores = [x[1] for x in grid_result.grid_scores_]\n",
    "scores = np.array(scores).reshape(len(Cs), len(Gammas))\n",
    "\n",
    "for ind, i in enumerate(Cs):\n",
    "    plt.plot(Gammas, scores[ind], label='momentum: ' + str(i))\n",
    "plt.legend()\n",
    "plt.xlabel('learn_rate')\n",
    "plt.ylabel('Mean score')\n",
    "plt.axis([0, 0.35, 0.9, 1])\n",
    "plt.show()"
   ]
  },
  {
   "cell_type": "code",
   "execution_count": null,
   "metadata": {},
   "outputs": [],
   "source": [
    "grid_result.grid_scores_"
   ]
  },
  {
   "cell_type": "code",
   "execution_count": 12,
   "metadata": {},
   "outputs": [
    {
     "name": "stderr",
     "output_type": "stream",
     "text": [
      "/usr/local/lib/python3.4/dist-packages/sklearn/model_selection/_search.py:667: DeprecationWarning: The grid_scores_ attribute was deprecated in version 0.18 in favor of the more elaborate cv_results_ attribute. The grid_scores_ attribute will not be available from 0.20\n",
      "  DeprecationWarning)\n"
     ]
    },
    {
     "data": {
      "image/png": "[encoded data removed]",
      "text/plain": [
       "<matplotlib.figure.Figure at 0x7f00a8cfeba8>"
      ]
     },
     "metadata": {},
     "output_type": "display_data"
    }
   ],
   "source": [
    "Gammas = momentum\n",
    "Cs = learn_rate\n",
    "\n",
    "scores = [x[1] for x in grid_result.grid_scores_]\n",
    "scores = np.array(scores).reshape(len(Cs), len(Gammas))\n",
    "\n",
    "for ind, i in enumerate(Cs):\n",
    "    plt.plot(Gammas, scores[ind], label='learn_rate: ' + str(i))\n",
    "plt.legend()\n",
    "plt.xlabel('momentum')\n",
    "plt.ylabel('Mean score')\n",
    "plt.axis([0, 1, 0.9, 1])\n",
    "plt.show()"
   ]
  },
  {
   "cell_type": "code",
   "execution_count": 11,
   "metadata": {},
   "outputs": [
    {
     "name": "stdout",
     "output_type": "stream",
     "text": [
      "The parameters of the best model are: \n",
      "{'learn_rate': 0.2, 'momentum': 0.8}\n",
      "1408/2060 [===================>..........] - ETA: 0sloss :  0.0245782235146\n",
      "acc :  0.991747572816\n"
     ]
    }
   ],
   "source": [
    "\n",
    "print('The parameters of the best model are: ')\n",
    "print(grid_result.best_params_)\n",
    "\n",
    "# validator.best_estimator_ returns sklearn-wrapped version of best model.\n",
    "# validator.best_estimator_.model returns the (unwrapped) keras model\n",
    "best_model = grid_result.best_estimator_.model\n",
    "metric_names = best_model.metrics_names\n",
    "metric_values = best_model.evaluate(x_test, y_test)\n",
    "for metric, value in zip(metric_names, metric_values):\n",
    "    print(metric, ': ', value)"
   ]
  },
  {
   "cell_type": "markdown",
   "metadata": {
    "collapsed": true
   },
   "source": [
    "The parameters of the best model are: \n",
    "{'learn_rate': 0.2, 'momentum': 0.8}\n",
    "1408/2060 [===================>..........] - ETA: 0sloss :  0.0245782235146\n",
    "acc :  0.991747572816"
   ]
  }
 ],
 "metadata": {
  "kernelspec": {
   "display_name": "Python 3",
   "language": "python",
   "name": "python3"
  },
  "language_info": {
   "codemirror_mode": {
    "name": "ipython",
    "version": 3
   },
   "file_extension": ".py",
   "mimetype": "text/x-python",
   "name": "python",
   "nbconvert_exporter": "python",
   "pygments_lexer": "ipython3",
   "version": "3.4.3"
  }
 },
 "nbformat": 4,
 "nbformat_minor": 2
}
